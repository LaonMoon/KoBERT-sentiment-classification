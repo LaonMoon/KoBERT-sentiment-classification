{
  "nbformat": 4,
  "nbformat_minor": 0,
  "metadata": {
    "colab": {
      "provenance": [],
      "authorship_tag": "ABX9TyN1rIsTPSYKXA7qSwD4e9Kw",
      "include_colab_link": true
    },
    "kernelspec": {
      "name": "python3",
      "display_name": "Python 3"
    },
    "language_info": {
      "name": "python"
    }
  },
  "cells": [
    {
      "cell_type": "markdown",
      "metadata": {
        "id": "view-in-github",
        "colab_type": "text"
      },
      "source": [
        "<a href=\"https://colab.research.google.com/github/LaonMoon/KoBERT-sentiment-classification/blob/master/labeling_with_chatgpt.ipynb\" target=\"_parent\"><img src=\"https://colab.research.google.com/assets/colab-badge.svg\" alt=\"Open In Colab\"/></a>"
      ]
    },
    {
      "cell_type": "code",
      "source": [
        "!pip install -Uq openai\n",
        "\n",
        "from google.colab import drive\n",
        "drive.mount('/content/drive')"
      ],
      "metadata": {
        "id": "QoYZIMvBnKKn"
      },
      "execution_count": null,
      "outputs": []
    },
    {
      "cell_type": "code",
      "source": [
        "import openai\n",
        "import csv\n",
        "import time\n",
        "openai.api_key = \"YOUR-API-KEY\"      # API 키 입력\n",
        "write_count = 0\n",
        "\n",
        "with open(\"/content/sentence1.txt\", \"r\") as file:\n",
        "    for line in file:\n",
        "        sentence_input = line\n",
        "        sentence = \"I want you to classify this text to '불안, 당황, 분노, 슬픔, 중립, 행복, 혐오', the text is '%s'\"%sentence_input\n",
        "\n",
        "        try:\n",
        "            completion = openai.ChatCompletion.create(\n",
        "              model=\"gpt-3.5-turbo\", \n",
        "              messages=[{\"role\": \"user\", \"content\": sentence}],\n",
        "              temperature=0\n",
        "            )\n",
        "            time.sleep(5)\n",
        "            answer = completion['choices'][0]['message']['content']\n",
        "\n",
        "            if (\"불안\" in answer):\n",
        "                sentiment = \"불안\"\n",
        "            elif (\"당황\" in answer):\n",
        "                sentiment = \"당황\"\n",
        "            elif (\"분노\" in answer):\n",
        "                sentiment = \"분노\"\n",
        "            elif (\"슬픔\" in answer):\n",
        "                sentiment = \"슬픔\"\n",
        "            elif (\"중립\" in answer):\n",
        "                sentiment = \"중립\"\n",
        "            elif (\"행복\" in answer):\n",
        "                sentiment = \"행복\"\n",
        "            elif (\"혐오\" in answer):\n",
        "                sentiment = \"혐오\"\n",
        "\n",
        "            print(\"sentence : \", sentence_input)\n",
        "            print(\"sentiment : \", sentiment)\n",
        "\n",
        "            # List of tuples containing text and sentiment\n",
        "            data = [(sentence_input, sentiment)]\n",
        "\n",
        "            # Write data to CSV file\n",
        "            with open(\"output.csv\", \"a\", newline=\"\", encoding=\"utf-8\") as f:\n",
        "                writer = csv.writer(f)\n",
        "                if (write_count==0):\n",
        "                    writer.writerow([\"Text\", \"Sentiment\"])  # Write header row\n",
        "                    write_count += 1\n",
        "                writer.writerows(data)  # Write data rows\n",
        "        except:\n",
        "            time.sleep(10)\n",
        "\n",
        "            completion = openai.ChatCompletion.create(\n",
        "              model=\"gpt-3.5-turbo\", \n",
        "              messages=[{\"role\": \"user\", \"content\": sentence}],\n",
        "              temperature=0\n",
        "            )\n",
        "            time.sleep(5)\n",
        "            answer = completion['choices'][0]['message']['content']\n",
        "\n",
        "            if (\"불안\" in answer):\n",
        "                sentiment = \"불안\"\n",
        "            elif (\"당황\" in answer):\n",
        "                sentiment = \"당황\"\n",
        "            elif (\"분노\" in answer):\n",
        "                sentiment = \"분노\"\n",
        "            elif (\"슬픔\" in answer):\n",
        "                sentiment = \"슬픔\"\n",
        "            elif (\"중립\" in answer):\n",
        "                sentiment = \"중립\"\n",
        "            elif (\"행복\" in answer):\n",
        "                sentiment = \"행복\"\n",
        "            elif (\"혐오\" in answer):\n",
        "                sentiment = \"혐오\"\n",
        "\n",
        "            print(\"sentence : \", sentence_input)\n",
        "            print(\"sentiment : \", sentiment)\n",
        "\n",
        "            # List of tuples containing text and sentiment\n",
        "            data = [(sentence_input, sentiment)]\n",
        "\n",
        "            # Write data to CSV file\n",
        "            with open(\"output.csv\", \"a\", newline=\"\", encoding=\"utf-8\") as f:\n",
        "                writer = csv.writer(f)\n",
        "                if (write_count==0):\n",
        "                    writer.writerow([\"Text\", \"Sentiment\"])  # Write header row\n",
        "                    write_count += 1\n",
        "                writer.writerows(data)  # Write data rows"
      ],
      "metadata": {
        "id": "lcCXemBOnL-q"
      },
      "execution_count": null,
      "outputs": []
    }
  ]
}